{
  "nbformat": 4,
  "nbformat_minor": 0,
  "metadata": {
    "colab": {
      "provenance": []
    },
    "kernelspec": {
      "name": "python3",
      "display_name": "Python 3"
    },
    "language_info": {
      "name": "python"
    }
  },
  "cells": [
    {
      "cell_type": "markdown",
      "source": [
        "# Task 1: Write a python program to find the sum of the numbers passed as parameters."
      ],
      "metadata": {
        "id": "cBuE6pOxXHXZ"
      }
    },
    {
      "cell_type": "code",
      "execution_count": 2,
      "metadata": {
        "colab": {
          "base_uri": "https://localhost:8080/"
        },
        "id": "Q2hL8NZ7Wtuv",
        "outputId": "af866a65-2dfa-4ae5-d8eb-759494f37a85"
      },
      "outputs": [
        {
          "output_type": "stream",
          "name": "stdout",
          "text": [
            "Sum of numbers: 100\n"
          ]
        }
      ],
      "source": [
        "def sum(*num):\n",
        "    total = 0\n",
        "    for n in num:\n",
        "        total += n\n",
        "    return total\n",
        "\n",
        "print(\"Sum of numbers:\", sum(10, 20, 30, 40))"
      ]
    },
    {
      "cell_type": "code",
      "source": [
        "def sum1(a, b):\n",
        "    return a + b\n",
        "\n",
        "num1 = int(input(\"Enter first number: \"))\n",
        "num2 = int(input(\"Enter second number: \"))\n",
        "\n",
        "result = sum1(num1, num2)\n",
        "print(\"Sum of the numbers:\", result)"
      ],
      "metadata": {
        "colab": {
          "base_uri": "https://localhost:8080/"
        },
        "id": "-sPeYIn7Xyp9",
        "outputId": "700fb26a-2682-4849-c665-5f4746841f16"
      },
      "execution_count": 4,
      "outputs": [
        {
          "output_type": "stream",
          "name": "stdout",
          "text": [
            "Enter first number: 3\n",
            "Enter second number: 4\n",
            "Sum of the numbers: 7\n"
          ]
        }
      ]
    },
    {
      "cell_type": "markdown",
      "source": [
        "# Task 2: Define a Python function student(). Using function attributes display the names of all arguments."
      ],
      "metadata": {
        "id": "RBdORzJTZrfl"
      }
    },
    {
      "cell_type": "code",
      "source": [
        "def Student(*names):\n",
        "    for name in names:\n",
        "        print(\"Name: \" + name)\n",
        "\n",
        "Student(\"Irteja\", \"Mostak\", \"Shakil\", \"Sagor\")"
      ],
      "metadata": {
        "colab": {
          "base_uri": "https://localhost:8080/"
        },
        "id": "REKxQ35sZuqc",
        "outputId": "e517327f-cb43-42af-c27e-4e44b942695a"
      },
      "execution_count": 16,
      "outputs": [
        {
          "output_type": "stream",
          "name": "stdout",
          "text": [
            "Name: Irteja\n",
            "Name: Mostak\n",
            "Name: Shakil\n",
            "Name: Sagor\n"
          ]
        }
      ]
    },
    {
      "cell_type": "markdown",
      "source": [
        "# Task 3: Write a Python program to create two empty classes, Student and Marks. Now create some instances and check whether they are instances of the said classes or not. Also, check whether the said classes are subclasses of the built-in object class or not."
      ],
      "metadata": {
        "id": "S6esX7V4a1xf"
      }
    },
    {
      "cell_type": "code",
      "source": [
        "class Student:\n",
        "    pass\n",
        "class Marks:\n",
        "    pass\n",
        "s1 = Student()\n",
        "m1 = Marks()\n",
        "print(isinstance(s1, Student))\n",
        "print(isinstance(m1, Marks))\n",
        "print(issubclass(Student, object))\n",
        "print(issubclass(Marks, object))"
      ],
      "metadata": {
        "colab": {
          "base_uri": "https://localhost:8080/"
        },
        "id": "rYXF15ppa2da",
        "outputId": "66e914f3-57fb-4b75-8176-7d152bd31282"
      },
      "execution_count": 9,
      "outputs": [
        {
          "output_type": "stream",
          "name": "stdout",
          "text": [
            "True\n",
            "True\n",
            "True\n",
            "True\n"
          ]
        }
      ]
    },
    {
      "cell_type": "markdown",
      "source": [
        "# Task 4: Write a Python class named Student with two attributes: studentName, marks. Modify the attribute values of the said class and print the original and modified values of the said attributes."
      ],
      "metadata": {
        "id": "yt3gvwe-cTl4"
      }
    },
    {
      "cell_type": "code",
      "source": [
        "class Student:\n",
        "    def __init__(self, studentName, marks):\n",
        "        self.studentName = studentName\n",
        "        self.marks = marks\n",
        "\n",
        "s1 = Student(\"Irteja\", 85)\n",
        "\n",
        "print(\"Original Values:\")\n",
        "print(\"Student Name:\", s1.studentName)\n",
        "print(\"Marks:\", s1.marks)\n",
        "\n",
        "s1.studentName = \"Rafid\"\n",
        "s1.marks = 95\n",
        "\n",
        "print(\"\\nModified Values:\")\n",
        "print(\"Student Name:\", s1.studentName)\n",
        "print(\"Marks:\", s1.marks)\n"
      ],
      "metadata": {
        "colab": {
          "base_uri": "https://localhost:8080/"
        },
        "id": "u-C2G4PmcDLz",
        "outputId": "38262c06-a152-491e-d49b-282355d3c3cd"
      },
      "execution_count": 17,
      "outputs": [
        {
          "output_type": "stream",
          "name": "stdout",
          "text": [
            "Original Values:\n",
            "Student Name: Irteja\n",
            "Marks: 85\n",
            "\n",
            "Modified Values:\n",
            "Student Name: Rafid\n",
            "Marks: 95\n"
          ]
        }
      ]
    },
    {
      "cell_type": "markdown",
      "source": [
        "# Task 5: Write a Python class named Student with two attributes studentId, studentName. Add a new attribute studentClass and display the entire attribute and their values of the said class. Now remove the studentName attribute and display the entire attribute with values."
      ],
      "metadata": {
        "id": "UwotLHX-eGbp"
      }
    },
    {
      "cell_type": "code",
      "source": [
        "class Student:\n",
        "    def __init__(self, studentId, studentName):\n",
        "        self.studentId = studentId\n",
        "        self.studentName = studentName\n",
        "\n",
        "s1 = Student(213902016, \"Irteja\")\n",
        "s1.studentClass = \"4th Year Student\"\n",
        "print(\"Original Attributes and Values:\", s1.__dict__)\n",
        "del s1.studentName\n",
        "print(\"Attributes After Removing studentName:\", s1.__dict__)"
      ],
      "metadata": {
        "colab": {
          "base_uri": "https://localhost:8080/"
        },
        "id": "u7zpnESxdGc6",
        "outputId": "5d960d81-fd4e-46d9-d79d-e7a620fa8624"
      },
      "execution_count": 18,
      "outputs": [
        {
          "output_type": "stream",
          "name": "stdout",
          "text": [
            "Original Attributes and Values: {'studentId': 213902016, 'studentName': 'Irteja', 'studentClass': '4th Year Student'}\n",
            "Attributes After Removing studentName: {'studentId': 213902016, 'studentClass': '4th Year Student'}\n"
          ]
        }
      ]
    },
    {
      "cell_type": "markdown",
      "source": [
        "# Task 6:Write a Python class named Student with two attributes studentId, studentName. Add a new attribute studentClass and display the entire attribute and their values of the said class. Now remove the studentName attribute and display the entire attribute with values."
      ],
      "metadata": {
        "id": "2thWB89keMsz"
      }
    },
    {
      "cell_type": "code",
      "source": [
        "class Student:\n",
        "    def __init__(self, studentId, studentName):\n",
        "        self.studentId = studentId\n",
        "        self.studentName = studentName\n",
        "\n",
        "    def display_attributes(self):\n",
        "        print(\"Student Attributes and Values:\", self.__dict__)\n",
        "\n",
        "s1 = Student(213902016, \"Irteja\")\n",
        "s1.studentClass = \"Under-Graduate\"\n",
        "s1.display_attributes()"
      ],
      "metadata": {
        "colab": {
          "base_uri": "https://localhost:8080/"
        },
        "id": "FsyU2Yd6eO7b",
        "outputId": "80ac7907-3210-41aa-8b9b-f91781c42cae"
      },
      "execution_count": 22,
      "outputs": [
        {
          "output_type": "stream",
          "name": "stdout",
          "text": [
            "Student Attributes and Values: {'studentId': 213902016, 'studentName': 'Irteja', 'studentClass': 'Under-Graduate'}\n"
          ]
        }
      ]
    }
  ]
}